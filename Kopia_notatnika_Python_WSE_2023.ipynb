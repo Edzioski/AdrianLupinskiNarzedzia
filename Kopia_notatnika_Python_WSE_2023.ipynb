{
  "nbformat": 4,
  "nbformat_minor": 0,
  "metadata": {
    "colab": {
      "provenance": [],
      "include_colab_link": true
    },
    "kernelspec": {
      "name": "python3",
      "display_name": "Python 3"
    },
    "language_info": {
      "name": "python"
    }
  },
  "cells": [
    {
      "cell_type": "markdown",
      "metadata": {
        "id": "view-in-github",
        "colab_type": "text"
      },
      "source": [
        "<a href=\"https://colab.research.google.com/github/Edzioski/AdrianLupinskiNarzedzia/blob/main/Kopia_notatnika_Python_WSE_2023.ipynb\" target=\"_parent\"><img src=\"https://colab.research.google.com/assets/colab-badge.svg\" alt=\"Open In Colab\"/></a>"
      ]
    },
    {
      "cell_type": "markdown",
      "source": [
        "# Polecenie print"
      ],
      "metadata": {
        "id": "0EkCXPqs2lCM"
      }
    },
    {
      "cell_type": "code",
      "source": [
        "print(\"Hello world!\", end=\" * \")\n",
        "print(\"Hello Mars!\")\n",
        "print(\"\\tHello\\n\\\"Venus!\\\"\")\n",
        "print('Hello \"Venus!\"')\n",
        "print(\"A\", \"u\", \"t\", \"o\", sep=\"-\")\n",
        "print(\"A\"+\"u\"+\"t\"+\"o\", sep=\"-\")\n",
        "print(\"#\"+\"F\"*6)\n",
        "# parametr end określa co ma wypisać na końcu linii\n",
        "# \\n - nowa linia\n",
        "# \\t - tabulator"
      ],
      "metadata": {
        "colab": {
          "base_uri": "https://localhost:8080/"
        },
        "id": "RXVr9vka2rXe",
        "outputId": "c4df1d2a-a527-4296-b9ee-2acbf7b0ca1b"
      },
      "execution_count": null,
      "outputs": [
        {
          "output_type": "stream",
          "name": "stdout",
          "text": [
            "Hello world! * Hello Mars!\n",
            "\tHello\n",
            "\"Venus!\"\n",
            "Hello \"Venus!\"\n",
            "A-u-t-o\n",
            "Auto\n",
            "#FFFFFF\n"
          ]
        }
      ]
    },
    {
      "cell_type": "markdown",
      "source": [
        "# Zmienne"
      ],
      "metadata": {
        "id": "iPIELgNP4or5"
      }
    },
    {
      "cell_type": "code",
      "source": [
        "v1 = 6\n",
        "v2 = 4\n",
        "print(v1, \"+\", v2, \"=\", v1 + v2)\n",
        "print(v1, \"-\", v2, \"=\", v1 - v2)\n",
        "print(v1, \"*\", v2, \"=\", v1 * v2)\n",
        "print(v1, \"/\", v2, \"=\", v1 / v2)\n",
        "print(f\"{v1} % {v2} = {v1 % v2}\")\n",
        "print(f\"{v1} ** {v2} = {v1 ** v2}\")"
      ],
      "metadata": {
        "colab": {
          "base_uri": "https://localhost:8080/"
        },
        "id": "WgZkQdP65dmd",
        "outputId": "327732fa-cea5-410e-eaef-c99cf47ef81f"
      },
      "execution_count": null,
      "outputs": [
        {
          "output_type": "stream",
          "name": "stdout",
          "text": [
            "6 + 4 = 10\n",
            "6 - 4 = 2\n",
            "6 * 4 = 24\n",
            "6 / 4 = 1.5\n",
            "6 % 4 = 2\n",
            "6 ** 4 = 1296\n"
          ]
        }
      ]
    },
    {
      "cell_type": "code",
      "source": [
        "v3 = 1\n",
        "v4 = 1.5\n",
        "v5 = True\n",
        "v6 = \"text\"\n",
        "print(\"v3 = \", v3, type(v3))\n",
        "print(\"v4 = \", v4, type(v4))\n",
        "print(\"v5 = \", v5, type(v5))\n",
        "print(\"v6 = \", v6, type(v6))\n",
        "v3 = \"jeden\"\n",
        "v6 = 2.0\n",
        "print(\"v3 = \", v3, type(v3))\n",
        "print(\"v6 = \", v6, type(v6))"
      ],
      "metadata": {
        "colab": {
          "base_uri": "https://localhost:8080/"
        },
        "id": "p6Pcd1_S4qjB",
        "outputId": "d6aa2d74-9f34-4b83-a062-8d2ec33da41f"
      },
      "execution_count": null,
      "outputs": [
        {
          "output_type": "stream",
          "name": "stdout",
          "text": [
            "v3 =  1 <class 'int'>\n",
            "v4 =  1.5 <class 'float'>\n",
            "v5 =  True <class 'bool'>\n",
            "v6 =  text <class 'str'>\n",
            "v3 =  jeden <class 'str'>\n",
            "v6 =  2.0 <class 'float'>\n"
          ]
        }
      ]
    },
    {
      "cell_type": "code",
      "source": [
        "drukuj = print\n",
        "drukuj(\"czy wpisze?\")\n",
        "drukuj(v1, \"+\", v2, \"=\", v1+v2)"
      ],
      "metadata": {
        "colab": {
          "base_uri": "https://localhost:8080/"
        },
        "id": "VsRYSqdO7n-M",
        "outputId": "f0693b14-d62c-4a67-9f58-449db10b41e9"
      },
      "execution_count": null,
      "outputs": [
        {
          "output_type": "stream",
          "name": "stdout",
          "text": [
            "czy wpisze?\n",
            "6 + 4 = 10\n"
          ]
        }
      ]
    },
    {
      "cell_type": "code",
      "source": [
        "v10 = \"abc\"\n",
        "print(v10, id(v10))\n",
        "v11 = \"abc\"\n",
        "print(v11, id(v11))\n",
        "v12 = 64\n",
        "print(v12, id(v12))\n",
        "v13 = 64\n",
        "print(v13, id(v13))\n",
        "v13 = 61\n",
        "print(v13, id(v13))\n",
        "v13 = 64\n",
        "print(v13, id(v13))\n",
        "\n",
        "# v14 = 512\n",
        "# print(v14, id(v14))\n",
        "# v15 = 512\n",
        "# print(v15, id(v15))"
      ],
      "metadata": {
        "colab": {
          "base_uri": "https://localhost:8080/"
        },
        "id": "YR8X8KzL8C10",
        "outputId": "f434ed8a-7a46-4f08-8a39-8df70e93dbc1"
      },
      "execution_count": null,
      "outputs": [
        {
          "output_type": "stream",
          "name": "stdout",
          "text": [
            "abc 139948142013872\n",
            "abc 139948142013872\n",
            "64 139948142842192\n",
            "64 139948142842192\n",
            "61 139948142842096\n",
            "64 139948142842192\n"
          ]
        }
      ]
    },
    {
      "cell_type": "code",
      "source": [
        "v7 = 6\n",
        "v8 = 9\n",
        "print(v7, v8)\n",
        "v7, v8 = v8+3, v7-1\n",
        "print(v7, v8)"
      ],
      "metadata": {
        "colab": {
          "base_uri": "https://localhost:8080/"
        },
        "id": "TTl39_1o-Z0W",
        "outputId": "c412ea9b-39e5-4529-bed5-0163aa1b26fe"
      },
      "execution_count": null,
      "outputs": [
        {
          "output_type": "stream",
          "name": "stdout",
          "text": [
            "6 9\n",
            "12 5\n"
          ]
        }
      ]
    },
    {
      "cell_type": "code",
      "source": [
        "int1 = 256\n",
        "int2 = 0x100\n",
        "int3 = 0o400\n",
        "int4 = 0b100000000\n",
        "print(int1, int2, int3, int4)"
      ],
      "metadata": {
        "colab": {
          "base_uri": "https://localhost:8080/"
        },
        "id": "D3nkctO_-uKk",
        "outputId": "3332c3f0-26ab-4e86-f707-99d9e4f244c0"
      },
      "execution_count": null,
      "outputs": [
        {
          "output_type": "stream",
          "name": "stdout",
          "text": [
            "256 256 256 256\n"
          ]
        }
      ]
    },
    {
      "cell_type": "code",
      "source": [
        "re1 = 100.\n",
        "re2 = 0.10\n",
        "re3 = .10\n",
        "re4 = 1e3\n",
        "print(re1, re2, re3, re4)"
      ],
      "metadata": {
        "colab": {
          "base_uri": "https://localhost:8080/"
        },
        "id": "LAB4_LBc-vm7",
        "outputId": "94acc62d-dc1f-4215-fdf8-cf3f972885c3"
      },
      "execution_count": null,
      "outputs": [
        {
          "output_type": "stream",
          "name": "stdout",
          "text": [
            "100.0 0.1 0.1 1000.0\n"
          ]
        }
      ]
    },
    {
      "cell_type": "code",
      "source": [
        "# txt = input(\"Wpisz dowolny tekst:\")\n",
        "# print(txt)\n",
        "num1 = int(input(\"Pierwsza liczba:\"))\n",
        "num2 = float(input(\"Druga liczba:\"))\n",
        "print(f\"{num1} + {num2} = {num1+num2}\")"
      ],
      "metadata": {
        "colab": {
          "base_uri": "https://localhost:8080/"
        },
        "id": "JEkdEK2QBARw",
        "outputId": "23abc7b5-7f81-45a9-bc40-23852073ba74"
      },
      "execution_count": null,
      "outputs": [
        {
          "output_type": "stream",
          "name": "stdout",
          "text": [
            "Pierwsza liczba:3\n",
            "Druga liczba:4\n",
            "3 + 4.0 = 7.0\n"
          ]
        }
      ]
    },
    {
      "cell_type": "markdown",
      "source": [
        "# Instrukcje warunkowe"
      ],
      "metadata": {
        "id": "nViRc2Z4CM-_"
      }
    },
    {
      "cell_type": "code",
      "source": [
        "year_birth = int(input(\"Podaj rok urodzenia:\"))\n",
        "current_year = 2023\n",
        "age = current_year - year_birth\n",
        "print(\"Wiek: \", age)\n",
        "if age >= 18:\n",
        "  print(\"Pełnoletni\")\n",
        "else:\n",
        "  print(\"Niepełnoletni\")"
      ],
      "metadata": {
        "colab": {
          "base_uri": "https://localhost:8080/"
        },
        "id": "W6UclEopCQf-",
        "outputId": "24b90880-042e-4926-bd84-b416fbcf6b5f"
      },
      "execution_count": null,
      "outputs": [
        {
          "output_type": "stream",
          "name": "stdout",
          "text": [
            "Podaj rok urodzenia:2010\n",
            "Wiek:  13\n",
            "Niepełnoletni\n"
          ]
        }
      ]
    },
    {
      "cell_type": "code",
      "source": [
        "x = 1\n",
        "y = 3\n",
        "if x > 0 and y >0:\n",
        "  print(\"obie dodatnie\")"
      ],
      "metadata": {
        "colab": {
          "base_uri": "https://localhost:8080/"
        },
        "id": "DRY7cKyfIurg",
        "outputId": "8eaa904c-6ca5-4cf4-f873-b981a0641df4"
      },
      "execution_count": null,
      "outputs": [
        {
          "output_type": "stream",
          "name": "stdout",
          "text": [
            "obie dodatnie\n"
          ]
        }
      ]
    },
    {
      "cell_type": "code",
      "source": [
        "num1 = 10\n",
        "num2 = 10.\n",
        "if num1 == num2:\n",
        "  print(f\"1. {num1} = {num2}\")\n",
        "if num1 is num2:\n",
        "  print(f\"2. {num1} is {num2}\")\n",
        "if num1 is not num2:\n",
        "  print(f\"3. {num1} is not {num2}\")\n",
        "num2 = int(num2)\n",
        "if num1 is int(num2):\n",
        "  print(f\"4. {num1} is {num2}\")"
      ],
      "metadata": {
        "colab": {
          "base_uri": "https://localhost:8080/"
        },
        "id": "wvRTOwT-JHpt",
        "outputId": "497fea83-94f1-4a87-d81e-0c3f5f0108e2"
      },
      "execution_count": null,
      "outputs": [
        {
          "output_type": "stream",
          "name": "stdout",
          "text": [
            "1. 10 = 10.0\n",
            "3. 10 is not 10.0\n",
            "4. 10 is 10\n"
          ]
        }
      ]
    },
    {
      "cell_type": "code",
      "source": [
        "number = float(input(\"Podaj liczbę:\"))\n",
        "if number % 2 == 0:\n",
        "  print(f\"Liczba {number} jest parzysta.\")\n",
        "else:\n",
        "  print(f\"Liczba {number} nie jest parzysta.\")\n",
        "  print(\"tak sobie sprawdzam blok kodu\")\n",
        "print(\"i jeszcze troche tekstu\")"
      ],
      "metadata": {
        "colab": {
          "base_uri": "https://localhost:8080/"
        },
        "id": "4O-s0lxVKzLp",
        "outputId": "e978f3f8-f37b-4153-ab0c-cee298e38a0a"
      },
      "execution_count": null,
      "outputs": [
        {
          "output_type": "stream",
          "name": "stdout",
          "text": [
            "Podaj liczbę:5\n",
            "Liczba 5.0 nie jest parzysta.\n",
            "tak sobie sprawdzam blok kodu\n",
            "i jeszcze troche tekstu\n"
          ]
        }
      ]
    }
  ]
}